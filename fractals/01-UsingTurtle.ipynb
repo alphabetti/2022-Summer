{
 "cells": [
  {
   "cell_type": "markdown",
   "source": [
    "# Using Turtle\n",
    "\n",
    "In this notebook we're going to be using the _turtle_ library from python.  Turtles have origins from the 1960s where someone created a mini robot they called a \"turtle\" which had a retractible pen, and could be given some simple instructions.  Those instructions were:\n",
    "\n",
    "1) Pen Down (pen is pressed to the paper, and will draw from this point on)\n",
    "2) Pen Up (pen is raised and won't draw)\n",
    "3) Rotate (rotate the turtle to the right by the number of degrees mentioned)\n",
    "4) Move (moves forward a bit)\n",
    "\n",
    "By using commands sent to the turtle, complex patterns could be drawn.\n",
    "\n",
    "We're going to be using a library for python which allows equivalents of many of these commands, called \"turtle\"\n",
    "\n",
    "First let's draw a spirograph.  You remember these right?  You put a pattern of some kind into a machine, draw the pattern, rotate it a bit and then draw it again.  Once the pattern has been rotated through all angles you get something really cool lucking.  We're going to do this with code\n"
   ],
   "metadata": {
    "collapsed": false,
    "pycharm": {
     "name": "#%% md\n"
    }
   }
  },
  {
   "cell_type": "code",
   "execution_count": 1,
   "outputs": [],
   "source": [
    "import turtle\n",
    "\n",
    "turtle.bgcolor('black')\n",
    "turtle.pensize(2)\n",
    "turtle.speed(100)\n",
    "\n",
    "turtle.color('white')\n",
    "\n",
    "# We draw 6 instances of the pattern\n",
    "for pattern_instance in range(36):\n",
    "\n",
    "    # Draw a circle of chosen size, 100 here\n",
    "    turtle.circle(100)\n",
    "\n",
    "    # Rotate 10 degrees to the left to draw another circle\n",
    "    turtle.left(10)\n",
    "\n",
    "turtle.done()"
   ],
   "metadata": {
    "collapsed": false,
    "pycharm": {
     "name": "#%%\n"
    }
   }
  },
  {
   "cell_type": "markdown",
   "source": [
    "## More things to try\n",
    "\n",
    "* Try varying the colours - maybe pick a random colour for each circle\n",
    "* Try using custom colours instead by setting red, green, blue levels color(red 0-255, green 0-255, blue 0-255) - try increasing the amount of red each time\n",
    "* Try drawing a different shape, like an arc, or diamond - maybe find the old spirograph set\n",
    "* Try changing the way the turtle moves at the end of each, maybe so it moves along a circle or an elipse itself\n"
   ],
   "metadata": {
    "collapsed": false,
    "pycharm": {
     "name": "#%% md\n"
    }
   }
  }
 ],
 "metadata": {
  "kernelspec": {
   "display_name": "Python 3",
   "language": "python",
   "name": "python3"
  },
  "language_info": {
   "codemirror_mode": {
    "name": "ipython",
    "version": 2
   },
   "file_extension": ".py",
   "mimetype": "text/x-python",
   "name": "python",
   "nbconvert_exporter": "python",
   "pygments_lexer": "ipython2",
   "version": "2.7.6"
  }
 },
 "nbformat": 4,
 "nbformat_minor": 0
}