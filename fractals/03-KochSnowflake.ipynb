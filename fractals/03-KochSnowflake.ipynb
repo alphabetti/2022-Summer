{
 "cells": [
  {
   "cell_type": "markdown",
   "source": [
    "# Koch Snowflake\n",
    "\n",
    "Use the pattern from the Fractal Tree to make a Koch Snowflake - this was one of the things from the original draw by hand section.\n",
    "\n",
    "https://en.wikipedia.org/wiki/Koch_snowflake#:~:text=The%20Koch%20snowflake%20(also%20known,fractals%20to%20have%20been%20described.\n",
    "\n",
    "Summarising:\n",
    "\n",
    "The Koch snowflake can be constructed by starting with an equilateral triangle, then recursively altering each line segment as follows:\n",
    "\n",
    "divide the line segment into three segments of equal length.\n",
    "draw an equilateral triangle that has the middle segment from step 1 as its base and points outward.\n",
    "remove the line segment that is the base of the triangle from step 2.\n",
    "\n",
    "Amend the following code (which draws a triangle) to recursively call into each side and draw the curve mentioned.\n"
   ],
   "metadata": {
    "collapsed": false,
    "pycharm": {
     "name": "#%% md\n"
    }
   }
  },
  {
   "cell_type": "code",
   "execution_count": 1,
   "outputs": [],
   "source": [
    "import turtle\n",
    "turtle.speed(0)\n",
    "\n",
    "MINIMUM_TRIANGLE_SIZE = 5\n",
    "\n",
    "def build_koch_snowflake(turtle, size, shorten_by):\n",
    "\n",
    "  # Need to modify this to follow the snowflake rules above\n",
    "  turtle.forward(size)\n",
    "  turtle.right(120)\n",
    "  turtle.forward(size)\n",
    "  turtle.right(120)\n",
    "  turtle.forward(size)\n",
    "\n",
    "turtle.hideturtle()\n",
    "turtle.setheading(90)\n",
    "turtle.color('blue')\n",
    "build_koch_snowflake(turtle, 50, 5)\n",
    "turtle.done()"
   ],
   "metadata": {
    "collapsed": false,
    "pycharm": {
     "name": "#%%\n"
    }
   }
  },
  {
   "cell_type": "markdown",
   "source": [
    "## Things to try\n",
    "\n",
    "* Try changing the parameters to the tree to see how it impacts the tree's appearance\n",
    "* Try adding a different colour depending on the size of the snowflake\n",
    "* Try changing the shape of the snowflake to a square, pentago, or hexagon"
   ],
   "metadata": {
    "collapsed": false,
    "pycharm": {
     "name": "#%% md\n"
    }
   }
  },
  {
   "cell_type": "code",
   "execution_count": null,
   "outputs": [],
   "source": [],
   "metadata": {
    "collapsed": false,
    "pycharm": {
     "name": "#%%\n"
    }
   }
  }
 ],
 "metadata": {
  "kernelspec": {
   "display_name": "Python 3",
   "language": "python",
   "name": "python3"
  },
  "language_info": {
   "codemirror_mode": {
    "name": "ipython",
    "version": 2
   },
   "file_extension": ".py",
   "mimetype": "text/x-python",
   "name": "python",
   "nbconvert_exporter": "python",
   "pygments_lexer": "ipython2",
   "version": "2.7.6"
  }
 },
 "nbformat": 4,
 "nbformat_minor": 0
}