{
 "cells": [
  {
   "cell_type": "markdown",
   "source": [
    "# Fractal Tree\n",
    "\n",
    "We're going to write a small amount of _recursive code_ - ie that calls into itself, to simulate the recursive nature of fractals.\n",
    "\n",
    "We're going to build a tree by writing some code which builds a tree - by branching and making a new tree to the left and a tree to the right\n",
    "What does this code look like?\n",
    "\n"
   ],
   "metadata": {
    "collapsed": false,
    "pycharm": {
     "name": "#%% md\n"
    }
   }
  },
  {
   "cell_type": "code",
   "execution_count": 1,
   "outputs": [
    {
     "ename": "Terminator",
     "evalue": "",
     "output_type": "error",
     "traceback": [
      "\u001B[1;31m---------------------------------------------------------------------------\u001B[0m",
      "\u001B[1;31mTerminator\u001B[0m                                Traceback (most recent call last)",
      "Input \u001B[1;32mIn [1]\u001B[0m, in \u001B[0;36m<cell line: 22>\u001B[1;34m()\u001B[0m\n\u001B[0;32m     20\u001B[0m tree\u001B[38;5;241m.\u001B[39msetheading(\u001B[38;5;241m90\u001B[39m)\n\u001B[0;32m     21\u001B[0m tree\u001B[38;5;241m.\u001B[39mcolor(\u001B[38;5;124m'\u001B[39m\u001B[38;5;124mgreen\u001B[39m\u001B[38;5;124m'\u001B[39m)\n\u001B[1;32m---> 22\u001B[0m \u001B[43mbuild_tree\u001B[49m\u001B[43m(\u001B[49m\u001B[43mtree\u001B[49m\u001B[43m,\u001B[49m\u001B[43m \u001B[49m\u001B[38;5;241;43m50\u001B[39;49m\u001B[43m,\u001B[49m\u001B[43m \u001B[49m\u001B[38;5;241;43m5\u001B[39;49m\u001B[43m,\u001B[49m\u001B[43m \u001B[49m\u001B[38;5;241;43m30\u001B[39;49m\u001B[43m)\u001B[49m\n\u001B[0;32m     23\u001B[0m turtle\u001B[38;5;241m.\u001B[39mdone()\n",
      "Input \u001B[1;32mIn [1]\u001B[0m, in \u001B[0;36mbuild_tree\u001B[1;34m(t, branch_length, shorten_by, angle)\u001B[0m\n\u001B[0;32m     10\u001B[0m new_length \u001B[38;5;241m=\u001B[39m branch_length \u001B[38;5;241m-\u001B[39m shorten_by\n\u001B[0;32m     11\u001B[0m t\u001B[38;5;241m.\u001B[39mleft(angle)\n\u001B[1;32m---> 12\u001B[0m \u001B[43mbuild_tree\u001B[49m\u001B[43m(\u001B[49m\u001B[43mt\u001B[49m\u001B[43m,\u001B[49m\u001B[43m \u001B[49m\u001B[43mnew_length\u001B[49m\u001B[43m,\u001B[49m\u001B[43m \u001B[49m\u001B[43mshorten_by\u001B[49m\u001B[43m,\u001B[49m\u001B[43m \u001B[49m\u001B[43mangle\u001B[49m\u001B[43m)\u001B[49m\n\u001B[0;32m     13\u001B[0m t\u001B[38;5;241m.\u001B[39mright(angle \u001B[38;5;241m*\u001B[39m \u001B[38;5;241m2\u001B[39m)\n\u001B[0;32m     14\u001B[0m build_tree(t, new_length, shorten_by, angle)\n",
      "Input \u001B[1;32mIn [1]\u001B[0m, in \u001B[0;36mbuild_tree\u001B[1;34m(t, branch_length, shorten_by, angle)\u001B[0m\n\u001B[0;32m     10\u001B[0m new_length \u001B[38;5;241m=\u001B[39m branch_length \u001B[38;5;241m-\u001B[39m shorten_by\n\u001B[0;32m     11\u001B[0m t\u001B[38;5;241m.\u001B[39mleft(angle)\n\u001B[1;32m---> 12\u001B[0m \u001B[43mbuild_tree\u001B[49m\u001B[43m(\u001B[49m\u001B[43mt\u001B[49m\u001B[43m,\u001B[49m\u001B[43m \u001B[49m\u001B[43mnew_length\u001B[49m\u001B[43m,\u001B[49m\u001B[43m \u001B[49m\u001B[43mshorten_by\u001B[49m\u001B[43m,\u001B[49m\u001B[43m \u001B[49m\u001B[43mangle\u001B[49m\u001B[43m)\u001B[49m\n\u001B[0;32m     13\u001B[0m t\u001B[38;5;241m.\u001B[39mright(angle \u001B[38;5;241m*\u001B[39m \u001B[38;5;241m2\u001B[39m)\n\u001B[0;32m     14\u001B[0m build_tree(t, new_length, shorten_by, angle)\n",
      "Input \u001B[1;32mIn [1]\u001B[0m, in \u001B[0;36mbuild_tree\u001B[1;34m(t, branch_length, shorten_by, angle)\u001B[0m\n\u001B[0;32m     10\u001B[0m new_length \u001B[38;5;241m=\u001B[39m branch_length \u001B[38;5;241m-\u001B[39m shorten_by\n\u001B[0;32m     11\u001B[0m t\u001B[38;5;241m.\u001B[39mleft(angle)\n\u001B[1;32m---> 12\u001B[0m \u001B[43mbuild_tree\u001B[49m\u001B[43m(\u001B[49m\u001B[43mt\u001B[49m\u001B[43m,\u001B[49m\u001B[43m \u001B[49m\u001B[43mnew_length\u001B[49m\u001B[43m,\u001B[49m\u001B[43m \u001B[49m\u001B[43mshorten_by\u001B[49m\u001B[43m,\u001B[49m\u001B[43m \u001B[49m\u001B[43mangle\u001B[49m\u001B[43m)\u001B[49m\n\u001B[0;32m     13\u001B[0m t\u001B[38;5;241m.\u001B[39mright(angle \u001B[38;5;241m*\u001B[39m \u001B[38;5;241m2\u001B[39m)\n\u001B[0;32m     14\u001B[0m build_tree(t, new_length, shorten_by, angle)\n",
      "Input \u001B[1;32mIn [1]\u001B[0m, in \u001B[0;36mbuild_tree\u001B[1;34m(t, branch_length, shorten_by, angle)\u001B[0m\n\u001B[0;32m     12\u001B[0m build_tree(t, new_length, shorten_by, angle)\n\u001B[0;32m     13\u001B[0m t\u001B[38;5;241m.\u001B[39mright(angle \u001B[38;5;241m*\u001B[39m \u001B[38;5;241m2\u001B[39m)\n\u001B[1;32m---> 14\u001B[0m \u001B[43mbuild_tree\u001B[49m\u001B[43m(\u001B[49m\u001B[43mt\u001B[49m\u001B[43m,\u001B[49m\u001B[43m \u001B[49m\u001B[43mnew_length\u001B[49m\u001B[43m,\u001B[49m\u001B[43m \u001B[49m\u001B[43mshorten_by\u001B[49m\u001B[43m,\u001B[49m\u001B[43m \u001B[49m\u001B[43mangle\u001B[49m\u001B[43m)\u001B[49m\n\u001B[0;32m     15\u001B[0m t\u001B[38;5;241m.\u001B[39mleft(angle)\n\u001B[0;32m     16\u001B[0m t\u001B[38;5;241m.\u001B[39mbackward(branch_length)\n",
      "Input \u001B[1;32mIn [1]\u001B[0m, in \u001B[0;36mbuild_tree\u001B[1;34m(t, branch_length, shorten_by, angle)\u001B[0m\n\u001B[0;32m     10\u001B[0m new_length \u001B[38;5;241m=\u001B[39m branch_length \u001B[38;5;241m-\u001B[39m shorten_by\n\u001B[0;32m     11\u001B[0m t\u001B[38;5;241m.\u001B[39mleft(angle)\n\u001B[1;32m---> 12\u001B[0m \u001B[43mbuild_tree\u001B[49m\u001B[43m(\u001B[49m\u001B[43mt\u001B[49m\u001B[43m,\u001B[49m\u001B[43m \u001B[49m\u001B[43mnew_length\u001B[49m\u001B[43m,\u001B[49m\u001B[43m \u001B[49m\u001B[43mshorten_by\u001B[49m\u001B[43m,\u001B[49m\u001B[43m \u001B[49m\u001B[43mangle\u001B[49m\u001B[43m)\u001B[49m\n\u001B[0;32m     13\u001B[0m t\u001B[38;5;241m.\u001B[39mright(angle \u001B[38;5;241m*\u001B[39m \u001B[38;5;241m2\u001B[39m)\n\u001B[0;32m     14\u001B[0m build_tree(t, new_length, shorten_by, angle)\n",
      "Input \u001B[1;32mIn [1]\u001B[0m, in \u001B[0;36mbuild_tree\u001B[1;34m(t, branch_length, shorten_by, angle)\u001B[0m\n\u001B[0;32m     11\u001B[0m t\u001B[38;5;241m.\u001B[39mleft(angle)\n\u001B[0;32m     12\u001B[0m build_tree(t, new_length, shorten_by, angle)\n\u001B[1;32m---> 13\u001B[0m \u001B[43mt\u001B[49m\u001B[38;5;241;43m.\u001B[39;49m\u001B[43mright\u001B[49m\u001B[43m(\u001B[49m\u001B[43mangle\u001B[49m\u001B[43m \u001B[49m\u001B[38;5;241;43m*\u001B[39;49m\u001B[43m \u001B[49m\u001B[38;5;241;43m2\u001B[39;49m\u001B[43m)\u001B[49m\n\u001B[0;32m     14\u001B[0m build_tree(t, new_length, shorten_by, angle)\n\u001B[0;32m     15\u001B[0m t\u001B[38;5;241m.\u001B[39mleft(angle)\n",
      "File \u001B[1;32mC:\\Python310\\lib\\turtle.py:1679\u001B[0m, in \u001B[0;36mTNavigator.right\u001B[1;34m(self, angle)\u001B[0m\n\u001B[0;32m   1660\u001B[0m \u001B[38;5;28;01mdef\u001B[39;00m \u001B[38;5;21mright\u001B[39m(\u001B[38;5;28mself\u001B[39m, angle):\n\u001B[0;32m   1661\u001B[0m     \u001B[38;5;124;03m\"\"\"Turn turtle right by angle units.\u001B[39;00m\n\u001B[0;32m   1662\u001B[0m \n\u001B[0;32m   1663\u001B[0m \u001B[38;5;124;03m    Aliases: right | rt\u001B[39;00m\n\u001B[1;32m   (...)\u001B[0m\n\u001B[0;32m   1677\u001B[0m \u001B[38;5;124;03m    337.0\u001B[39;00m\n\u001B[0;32m   1678\u001B[0m \u001B[38;5;124;03m    \"\"\"\u001B[39;00m\n\u001B[1;32m-> 1679\u001B[0m     \u001B[38;5;28;43mself\u001B[39;49m\u001B[38;5;241;43m.\u001B[39;49m\u001B[43m_rotate\u001B[49m\u001B[43m(\u001B[49m\u001B[38;5;241;43m-\u001B[39;49m\u001B[43mangle\u001B[49m\u001B[43m)\u001B[49m\n",
      "File \u001B[1;32mC:\\Python310\\lib\\turtle.py:3278\u001B[0m, in \u001B[0;36mRawTurtle._rotate\u001B[1;34m(self, angle)\u001B[0m\n\u001B[0;32m   3276\u001B[0m     \u001B[38;5;28;01mfor\u001B[39;00m _ \u001B[38;5;129;01min\u001B[39;00m \u001B[38;5;28mrange\u001B[39m(steps):\n\u001B[0;32m   3277\u001B[0m         \u001B[38;5;28mself\u001B[39m\u001B[38;5;241m.\u001B[39m_orient \u001B[38;5;241m=\u001B[39m \u001B[38;5;28mself\u001B[39m\u001B[38;5;241m.\u001B[39m_orient\u001B[38;5;241m.\u001B[39mrotate(delta)\n\u001B[1;32m-> 3278\u001B[0m         \u001B[38;5;28;43mself\u001B[39;49m\u001B[38;5;241;43m.\u001B[39;49m\u001B[43m_update\u001B[49m\u001B[43m(\u001B[49m\u001B[43m)\u001B[49m\n\u001B[0;32m   3279\u001B[0m \u001B[38;5;28mself\u001B[39m\u001B[38;5;241m.\u001B[39m_orient \u001B[38;5;241m=\u001B[39m neworient\n\u001B[0;32m   3280\u001B[0m \u001B[38;5;28mself\u001B[39m\u001B[38;5;241m.\u001B[39m_update()\n",
      "File \u001B[1;32mC:\\Python310\\lib\\turtle.py:2661\u001B[0m, in \u001B[0;36mRawTurtle._update\u001B[1;34m(self)\u001B[0m\n\u001B[0;32m   2659\u001B[0m     \u001B[38;5;28;01mreturn\u001B[39;00m\n\u001B[0;32m   2660\u001B[0m \u001B[38;5;28;01melif\u001B[39;00m screen\u001B[38;5;241m.\u001B[39m_tracing \u001B[38;5;241m==\u001B[39m \u001B[38;5;241m1\u001B[39m:\n\u001B[1;32m-> 2661\u001B[0m     \u001B[38;5;28;43mself\u001B[39;49m\u001B[38;5;241;43m.\u001B[39;49m\u001B[43m_update_data\u001B[49m\u001B[43m(\u001B[49m\u001B[43m)\u001B[49m\n\u001B[0;32m   2662\u001B[0m     \u001B[38;5;28mself\u001B[39m\u001B[38;5;241m.\u001B[39m_drawturtle()\n\u001B[0;32m   2663\u001B[0m     screen\u001B[38;5;241m.\u001B[39m_update()                  \u001B[38;5;66;03m# TurtleScreenBase\u001B[39;00m\n",
      "File \u001B[1;32mC:\\Python310\\lib\\turtle.py:2647\u001B[0m, in \u001B[0;36mRawTurtle._update_data\u001B[1;34m(self)\u001B[0m\n\u001B[0;32m   2646\u001B[0m \u001B[38;5;28;01mdef\u001B[39;00m \u001B[38;5;21m_update_data\u001B[39m(\u001B[38;5;28mself\u001B[39m):\n\u001B[1;32m-> 2647\u001B[0m     \u001B[38;5;28;43mself\u001B[39;49m\u001B[38;5;241;43m.\u001B[39;49m\u001B[43mscreen\u001B[49m\u001B[38;5;241;43m.\u001B[39;49m\u001B[43m_incrementudc\u001B[49m\u001B[43m(\u001B[49m\u001B[43m)\u001B[49m\n\u001B[0;32m   2648\u001B[0m     \u001B[38;5;28;01mif\u001B[39;00m \u001B[38;5;28mself\u001B[39m\u001B[38;5;241m.\u001B[39mscreen\u001B[38;5;241m.\u001B[39m_updatecounter \u001B[38;5;241m!=\u001B[39m \u001B[38;5;241m0\u001B[39m:\n\u001B[0;32m   2649\u001B[0m         \u001B[38;5;28;01mreturn\u001B[39;00m\n",
      "File \u001B[1;32mC:\\Python310\\lib\\turtle.py:1293\u001B[0m, in \u001B[0;36mTurtleScreen._incrementudc\u001B[1;34m(self)\u001B[0m\n\u001B[0;32m   1291\u001B[0m \u001B[38;5;28;01mif\u001B[39;00m \u001B[38;5;129;01mnot\u001B[39;00m TurtleScreen\u001B[38;5;241m.\u001B[39m_RUNNING:\n\u001B[0;32m   1292\u001B[0m     TurtleScreen\u001B[38;5;241m.\u001B[39m_RUNNING \u001B[38;5;241m=\u001B[39m \u001B[38;5;28;01mTrue\u001B[39;00m\n\u001B[1;32m-> 1293\u001B[0m     \u001B[38;5;28;01mraise\u001B[39;00m Terminator\n\u001B[0;32m   1294\u001B[0m \u001B[38;5;28;01mif\u001B[39;00m \u001B[38;5;28mself\u001B[39m\u001B[38;5;241m.\u001B[39m_tracing \u001B[38;5;241m>\u001B[39m \u001B[38;5;241m0\u001B[39m:\n\u001B[0;32m   1295\u001B[0m     \u001B[38;5;28mself\u001B[39m\u001B[38;5;241m.\u001B[39m_updatecounter \u001B[38;5;241m+\u001B[39m\u001B[38;5;241m=\u001B[39m \u001B[38;5;241m1\u001B[39m\n",
      "\u001B[1;31mTerminator\u001B[0m: "
     ]
    }
   ],
   "source": [
    "import turtle\n",
    "turtle.speed(100)\n",
    "\n",
    "MINIMUM_BRANCH_LENGTH = 5\n",
    "\n",
    "def build_tree(t, branch_length, shorten_by, angle):\n",
    "\n",
    "  if branch_length > MINIMUM_BRANCH_LENGTH:\n",
    "    t.forward(branch_length)\n",
    "    new_length = branch_length - shorten_by\n",
    "    t.left(angle)\n",
    "    build_tree(t, new_length, shorten_by, angle)\n",
    "    t.right(angle * 2)\n",
    "    build_tree(t, new_length, shorten_by, angle)\n",
    "    t.left(angle)\n",
    "    t.backward(branch_length)\n",
    "\n",
    "tree = turtle.Turtle()\n",
    "tree.hideturtle()\n",
    "tree.setheading(90)\n",
    "tree.color('green')\n",
    "build_tree(tree, 50, 5, 30)\n",
    "turtle.done()"
   ],
   "metadata": {
    "collapsed": false,
    "pycharm": {
     "name": "#%%\n"
    }
   }
  },
  {
   "cell_type": "markdown",
   "source": [
    "We create a new turtle which builds our tree.  We then set it to green and set it's heading to be 90 (up).  Then we call into build_tree with a branch_length of 50 (this is how long the tree branch appears), the reduction in size of each branch to each next branch is 5, then the angle to go left or right is 30 degrees.\n",
    "\n",
    "So we draw an initial line length 50 up, then we rotate by 30 degrees to the left and draw a smaller tree of size 45, and additional 30 degrees to the right and draw another tree at the end of that.  As we repeat and subdivide we repeat the tree everywhere.\n",
    "\n",
    "Now the recursion would never end if we kept doing thats, so we have a check on the length of each branch.  If it ever falls below 5 (MINIMUM_BRANCH_LENGTH), we just don't draw this tree.  That means that the code above can complete!\n",
    "\n",
    "## Things to try\n",
    "\n",
    "* Try changing the parameters to the tree to see how it impacts the tree's appearance\n",
    "* Try adding a third branch at each subtree (eg one at -30, one at 0, one at +30 degrees)\n",
    "* Try doing something asymmetric, and see how the result is impacted\n",
    "* See if you can use the same code to display a Sierpinski Triangle - https://en.wikipedia.org/wiki/Sierpi%C5%84ski_triangle"
   ],
   "metadata": {
    "collapsed": false,
    "pycharm": {
     "name": "#%% md\n"
    }
   }
  }
 ],
 "metadata": {
  "kernelspec": {
   "display_name": "Python 3",
   "language": "python",
   "name": "python3"
  },
  "language_info": {
   "codemirror_mode": {
    "name": "ipython",
    "version": 2
   },
   "file_extension": ".py",
   "mimetype": "text/x-python",
   "name": "python",
   "nbconvert_exporter": "python",
   "pygments_lexer": "ipython2",
   "version": "2.7.6"
  }
 },
 "nbformat": 4,
 "nbformat_minor": 0
}