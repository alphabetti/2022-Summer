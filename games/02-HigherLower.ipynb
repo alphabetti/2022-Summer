{
 "cells": [
  {
   "cell_type": "markdown",
   "source": [
    "# Higher / Lower\n",
    "\n",
    "Another classic game is higher / lower.  In this game each player chooses a number between one and ten, then they take it in turns to guess a number.  If it's right, the other player says it's right, if it's wrong, they say the correct answer is either lower or higher.\n",
    "\n",
    "Finding an algorithm the computer can use to find the answer as efficiently as possible is one of the typical things developers tend to do while writing code.  There's usually a hard way and an easy way.  The easy way can usually be reached at by using a standard approach.\n",
    "\n",
    "If you're ever unsure how to solve an algorithmic style problem, then reduce it down to the easiest solution you can think of.  This is typically called a _brute force_ method and involves trying all the options.\n",
    "\n",
    "In our example above, we know the number is between one and ten, so what would be the easiest algorithm we could tell a computer to do to find out what the answer is?  Well, to try each number between one and ten in turn until we find the right result.\n",
    "\n",
    "How would this code look?"
   ],
   "metadata": {
    "collapsed": false,
    "pycharm": {
     "name": "#%% md\n"
    }
   }
  },
  {
   "cell_type": "code",
   "execution_count": 1,
   "outputs": [
    {
     "name": "stdout",
     "output_type": "stream",
     "text": [
      "The chosen number is 4\n",
      "I guess 1\n",
      "I guess 2\n",
      "I guess 3\n",
      "I guess 4\n",
      "Yay I got it right!\n"
     ]
    }
   ],
   "source": [
    "import random\n",
    "\n",
    "chosen_number = random.randint(1, 10)\n",
    "print(f\"The chosen number is {chosen_number}\")\n",
    "\n",
    "for candidate_number in range(1, 10):\n",
    "    print(f\"I guess {candidate_number}\")\n",
    "    if candidate_number == chosen_number:\n",
    "        print(\"Yay I got it right!\")\n",
    "        break"
   ],
   "metadata": {
    "collapsed": false,
    "pycharm": {
     "name": "#%%\n"
    }
   }
  },
  {
   "cell_type": "markdown",
   "source": [
    "# More efficient\n",
    "\n",
    "If you were playing this game in real life you wouldn't do this though.  That's because it's kind of dull and it's really slow.  I have to ask you the question each time and that takes time and ... yawn.\n",
    "\n",
    "We'd reduce this wouldn't we?  Think about splitting the list into smaller lists.  With this block of code we define some functions up front which can be used.\n",
    "\n",
    "1. Extend the brute force code above to use the method below\n",
    "2. Subdivide the list to make it faster to find the answer"
   ],
   "metadata": {
    "collapsed": false,
    "pycharm": {
     "name": "#%% md\n"
    }
   }
  },
  {
   "cell_type": "code",
   "execution_count": 3,
   "outputs": [
    {
     "name": "stdout",
     "output_type": "stream",
     "text": [
      "The chosen number is 6\n",
      "Don't know what to do, it wasn't 3\n"
     ]
    }
   ],
   "source": [
    "import random\n",
    "from enum import Enum\n",
    "\n",
    "chosen_number = random.randint(1, 10)\n",
    "print(f\"The chosen number is {chosen_number}\")\n",
    "\n",
    "class GuessResult(Enum):\n",
    "    Correct = 0\n",
    "    TooLow = -1\n",
    "    TooHigh = 1\n",
    "\n",
    "def guess_number(guess):\n",
    "    if chosen_number == guess:\n",
    "        return GuessResult.Correct\n",
    "    if chosen_number < guess:\n",
    "        return GuessResult.TooLow\n",
    "    return GuessResult.TooHigh\n",
    "\n",
    "# Add brute force code using the guess_number method\n",
    "\n",
    "guess_result = guess_number(3)\n",
    "if guess_result == GuessResult.Correct:\n",
    "    print(\"Yay the answer was 3\")\n",
    "else:\n",
    "    print(f\"This code has failed, the answer wasn't 3 :(\")\n",
    "\n",
    "# Then extend to reduce the number of guesses\n"
   ],
   "metadata": {
    "collapsed": false,
    "pycharm": {
     "name": "#%%\n"
    }
   }
  },
  {
   "cell_type": "markdown",
   "source": [
    "# Complexity\n",
    "The _time complexity_ of an algorithm is a way of measuring how long it will take (often measured in instructions executed) for the code to run with different data, and we always take the worst case result.\n",
    "In the case we're running, we're looking at a number of potential outcomes of 10.  At its worst we pick the number 10 and we guess 10 times.  If we increased the number of potential outcomes to 100 (guess in the range 1 to 100), then it would be 100.  _n_ is used to denote the number of outcomes we have to process - the number of guesses we need to make is proporional to the number of outcomes, so that means the solution is O(n) (announced as _order n_).\n",
    "\n",
    "If instead we split the list into exactly half, we have 10, then 5, then 2, then 1 outcome when we're checking.  This is less steps and actually comes out as O(log to base 2 of n).  As logs are all proportional, this is described as O(log n) (announced as _order log n_)\n",
    "\n",
    "If we split the list in half each time then we'd end up taking just 10 guesses to find the correct result in a list of 1000 (2^10, 2 to the power 10 is 1024 which is greater than 1000)\n",
    "\n",
    "There's also another complexity called _space complexity_ which is how much storage space the algorithm needs.  In our case we only have a couple of variables, so the space complexity is O(1).  It doesn't increase as the number of potential right answers increases.\n"
   ],
   "metadata": {
    "collapsed": false,
    "pycharm": {
     "name": "#%% md\n"
    }
   }
  },
  {
   "cell_type": "markdown",
   "source": [
    "# Pragmatism\n",
    "You'll probably find people doing Computer Science would frown at you if you mentioned solving this problem with the original brute force method, and that's because it would be more efficient to do a binary search.  But it's not always black and white what the \"best\" way of doing something is.\n",
    "\n",
    "We've been looking to find the result in as few guesses as possible, but if we just wanted to get to the right answer and we didn't care how long it took, let's consider the original brute force implementation above\n",
    "1. It's pretty obvious what it does\n",
    "2. It was really quick to write\n",
    "\n",
    "These are both good positives.\n",
    "\n",
    "It's really tempting to try to write amazingly efficient code for everything you do.  Sometimes this optimization is not needed - for example if your code is only run once, and it runs in under a hundredth of a second whichever approach you take, then you don't need to optimize it to be as effieicnt as possible This is called Premature Optimization\n",
    "![](https://imgs.xkcd.com/comics/optimization.png)\n",
    "\n",
    "And often you have two really similar options and it doesn't really matter\n",
    "![](https://imgs.xkcd.com/comics/efficiency_2x.png)\n",
    "\n",
    "If you're running something over huge datasets or lots and lots of times, then optimizing performance is definitely important, but don't be afraid to write unoptimized code in other situations."
   ],
   "metadata": {
    "collapsed": false,
    "pycharm": {
     "name": "#%% md\n"
    }
   }
  },
  {
   "cell_type": "markdown",
   "source": [
    "# More stuff you might like to do\n",
    "1. Extend the code above to guess between 1 and 1000\n",
    "2. If you didn't already try splitting into two exact halves each time in your code (this is called a Binary Search)\n",
    "3. Add interaction so you can play against it\n",
    "4. Add a version where the computer guess the number you've said\n"
   ],
   "metadata": {
    "collapsed": false,
    "pycharm": {
     "name": "#%% md\n"
    }
   }
  }
 ],
 "metadata": {
  "kernelspec": {
   "display_name": "Python 3",
   "language": "python",
   "name": "python3"
  },
  "language_info": {
   "codemirror_mode": {
    "name": "ipython",
    "version": 2
   },
   "file_extension": ".py",
   "mimetype": "text/x-python",
   "name": "python",
   "nbconvert_exporter": "python",
   "pygments_lexer": "ipython2",
   "version": "2.7.6"
  }
 },
 "nbformat": 4,
 "nbformat_minor": 0
}