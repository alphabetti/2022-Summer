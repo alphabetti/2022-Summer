{
 "cells": [
  {
   "cell_type": "markdown",
   "source": [
    "# Write the game of Mastermind\n",
    "We've got Mastermind upstairs - see https://en.wikipedia.org/wiki/Mastermind_(board_game)\n",
    "For this the computer will randomly select a sequence of numbers, and we guess a sequence of numbers, from this we're told if we're\n",
    "1) right\n",
    "2) For each number which is in the correct position and shows the right value we return \"Completely Right\"\n",
    "3) For each number remaining in both clue and answer which is not in the correct position we return \"Wrong Position\"\n",
    "4) Everything else is completely wrong\n",
    "\n",
    "The tricky bit in this is writing the logic which works out if our guess is right or not.\n",
    "When writing this sort of code it is best to write tests for your code.  We're going to use an approach called \"TDD\" or Test Driven Development\n",
    "We check all our tests are coming back good.  We write a new test and check it's broken, then we fix it as easily as possibly, then we check everything is good again and repeat.  By writing tests before we code we guarantee that what we're writing will be right."
   ],
   "metadata": {
    "collapsed": false,
    "pycharm": {
     "name": "#%% md\n"
    }
   }
  },
  {
   "cell_type": "code",
   "execution_count": 1,
   "outputs": [],
   "source": [
    "# This is an object that defines how successful our guess has been\n",
    "class ResultFromGuess:\n",
    "\n",
    "    completely_right_count = 0\n",
    "    wrong_position_count = 0\n",
    "\n",
    "    # Next we add a constructor, this allows us to make a 'ResultFromGuess' using the format\n",
    "    # ResultFromGuess(2, 1) to get our score\n",
    "\n",
    "    def __init__(self, completely_right_count, wrong_position_count):\n",
    "        self.completely_right_count = completely_right_count\n",
    "        self.wrong_position_count = wrong_position_count\n",
    "\n",
    "    # Adding a \"str\" method allows us to call print(guess) and know it'll display something sensible\n",
    "    def __str__(self):\n",
    "        return f\"Completely Right: {self.completely_right_count}, Wrong Position: {self.wrong_position_count}\"\n"
   ],
   "metadata": {
    "collapsed": false,
    "pycharm": {
     "name": "#%%\n"
    }
   }
  },
  {
   "cell_type": "code",
   "execution_count": 2,
   "outputs": [],
   "source": [
    "# Now Let's write a function which scores our guess vs an actual result, but not worry about the details of how it works yet\n",
    "def evaluate_guess(guess, correct_answer):\n",
    "    pass"
   ],
   "metadata": {
    "collapsed": false,
    "pycharm": {
     "name": "#%%\n"
    }
   }
  },
  {
   "cell_type": "code",
   "execution_count": 3,
   "outputs": [
    {
     "ename": "AssertionError",
     "evalue": "Guessing 0 vs 1 should return none correct and none in wrong position",
     "output_type": "error",
     "traceback": [
      "\u001B[1;31m---------------------------------------------------------------------------\u001B[0m",
      "\u001B[1;31mAssertionError\u001B[0m                            Traceback (most recent call last)",
      "Input \u001B[1;32mIn [3]\u001B[0m, in \u001B[0;36m<cell line: 5>\u001B[1;34m()\u001B[0m\n\u001B[0;32m      1\u001B[0m \u001B[38;5;66;03m# Here is our first test - usually start with the easiest case - a bad guess or no guess at all\u001B[39;00m\n\u001B[0;32m      2\u001B[0m \u001B[38;5;66;03m# Here let's start with something which doesn't overlap at all, and only has one peg in the board\u001B[39;00m\n\u001B[0;32m      3\u001B[0m \u001B[38;5;66;03m# Change the code above in the simplest way to just fix this test.\u001B[39;00m\n\u001B[1;32m----> 5\u001B[0m \u001B[38;5;28;01massert\u001B[39;00m (evaluate_guess([\u001B[38;5;241m0\u001B[39m], [\u001B[38;5;241m1\u001B[39m])) \u001B[38;5;241m==\u001B[39m ResultFromGuess(\u001B[38;5;241m0\u001B[39m, \u001B[38;5;241m0\u001B[39m), \u001B[38;5;124m\"\u001B[39m\u001B[38;5;124mGuessing 0 vs 1 should return none correct and none in wrong position\u001B[39m\u001B[38;5;124m\"\u001B[39m\n",
      "\u001B[1;31mAssertionError\u001B[0m: Guessing 0 vs 1 should return none correct and none in wrong position"
     ]
    }
   ],
   "source": [
    "# Here is our first test - usually start with the easiest case - a bad guess or no guess at all\n",
    "# Here let's start with something which doesn't overlap at all, and only has one peg in the board\n",
    "# Change the code above in the simplest way to just fix this test.\n",
    "\n",
    "assert (evaluate_guess([0], [1])) == ResultFromGuess(0, 0), \"Guessing 0 vs 1 should return none correct and none in wrong position\""
   ],
   "metadata": {
    "collapsed": false,
    "pycharm": {
     "name": "#%%\n"
    }
   }
  },
  {
   "cell_type": "code",
   "execution_count": 4,
   "outputs": [
    {
     "ename": "AssertionError",
     "evalue": "Guessing 0 vs 0 should return one correct and none in wrong position",
     "output_type": "error",
     "traceback": [
      "\u001B[1;31m---------------------------------------------------------------------------\u001B[0m",
      "\u001B[1;31mAssertionError\u001B[0m                            Traceback (most recent call last)",
      "Input \u001B[1;32mIn [4]\u001B[0m, in \u001B[0;36m<cell line: 3>\u001B[1;34m()\u001B[0m\n\u001B[0;32m      1\u001B[0m \u001B[38;5;66;03m# Here is our second test - we want to check that it can return the right result as well\u001B[39;00m\n\u001B[1;32m----> 3\u001B[0m \u001B[38;5;28;01massert\u001B[39;00m (evaluate_guess([\u001B[38;5;241m0\u001B[39m], [\u001B[38;5;241m0\u001B[39m])) \u001B[38;5;241m==\u001B[39m ResultFromGuess(\u001B[38;5;241m1\u001B[39m, \u001B[38;5;241m0\u001B[39m), \u001B[38;5;124m\"\u001B[39m\u001B[38;5;124mGuessing 0 vs 0 should return one correct and none in wrong position\u001B[39m\u001B[38;5;124m\"\u001B[39m\n",
      "\u001B[1;31mAssertionError\u001B[0m: Guessing 0 vs 0 should return one correct and none in wrong position"
     ]
    }
   ],
   "source": [
    "# Here is our second test - we want to check that it can return the right result as well\n",
    "\n",
    "assert (evaluate_guess([0], [0])) == ResultFromGuess(1, 0), \"Guessing 0 vs 0 should return one correct and none in wrong position\""
   ],
   "metadata": {
    "collapsed": false,
    "pycharm": {
     "name": "#%%\n"
    }
   }
  },
  {
   "cell_type": "code",
   "execution_count": 5,
   "outputs": [
    {
     "ename": "AssertionError",
     "evalue": "Guess should return one in wrong position",
     "output_type": "error",
     "traceback": [
      "\u001B[1;31m---------------------------------------------------------------------------\u001B[0m",
      "\u001B[1;31mAssertionError\u001B[0m                            Traceback (most recent call last)",
      "Input \u001B[1;32mIn [5]\u001B[0m, in \u001B[0;36m<cell line: 3>\u001B[1;34m()\u001B[0m\n\u001B[0;32m      1\u001B[0m \u001B[38;5;66;03m# We haven't tested the wrong position logic yet, which we can't do with a guess of length 1, so we have to increase the size next\u001B[39;00m\n\u001B[1;32m----> 3\u001B[0m \u001B[38;5;28;01massert\u001B[39;00m (evaluate_guess([\u001B[38;5;241m0\u001B[39m, \u001B[38;5;241m1\u001B[39m], [\u001B[38;5;241m1\u001B[39m, \u001B[38;5;241m2\u001B[39m])) \u001B[38;5;241m==\u001B[39m ResultFromGuess(\u001B[38;5;241m0\u001B[39m, \u001B[38;5;241m1\u001B[39m), \u001B[38;5;124m\"\u001B[39m\u001B[38;5;124mGuess should return one in wrong position\u001B[39m\u001B[38;5;124m\"\u001B[39m\n",
      "\u001B[1;31mAssertionError\u001B[0m: Guess should return one in wrong position"
     ]
    }
   ],
   "source": [
    "# We haven't tested the wrong position logic yet, which we can't do with a guess of length 1, so we have to increase the size next\n",
    "\n",
    "assert (evaluate_guess([0, 1], [1, 2])) == ResultFromGuess(0, 1), \"Guess should return one in wrong position\"\n"
   ],
   "metadata": {
    "collapsed": false,
    "pycharm": {
     "name": "#%%\n"
    }
   }
  },
  {
   "cell_type": "code",
   "execution_count": null,
   "outputs": [],
   "source": [
    "# It's probably worth writing a test which covers a longer case with some of everything (ideally\n",
    "# different numbers of each category, and then we can be confident our code works"
   ],
   "metadata": {
    "collapsed": false,
    "pycharm": {
     "name": "#%%\n"
    }
   }
  },
  {
   "cell_type": "markdown",
   "source": [
    "Now we're confident our code that scores the guess is correct, we can write the actual game code.  Whether this works or not will be kind of obvious by whether we're able to play or not, so it's not so critical we test this.\n",
    "\n",
    "* Write code allowing guessing between 0 and 4 for four slots\n",
    "* Experiment with different slots, and different ranges of guesses (0-6, 0-9)\n",
    "* Stretch: Try writing something where the computer plays itself and comes to the right answer using brute force / then by being smart - there's some analysis on this at https://en.wikipedia.org/wiki/Mastermind_(board_game)#Five-guess_algorithm if you want to read up on what others have done"
   ],
   "metadata": {
    "collapsed": false,
    "pycharm": {
     "name": "#%% md\n"
    }
   }
  }
 ],
 "metadata": {
  "kernelspec": {
   "display_name": "Python 3",
   "language": "python",
   "name": "python3"
  },
  "language_info": {
   "codemirror_mode": {
    "name": "ipython",
    "version": 2
   },
   "file_extension": ".py",
   "mimetype": "text/x-python",
   "name": "python",
   "nbconvert_exporter": "python",
   "pygments_lexer": "ipython2",
   "version": "2.7.6"
  }
 },
 "nbformat": 4,
 "nbformat_minor": 0
}