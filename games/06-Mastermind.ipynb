{
 "cells": [
  {
   "cell_type": "markdown",
   "source": [
    "# Write the game of Mastermind\n",
    "For this the computer will randomly select a sequence of numbers, and we guess a sequence of numbers, from this we're told if we're\n",
    "1) right\n",
    "2) For each number which is in the correct position and shows the right value we return \"Completely Right\"\n",
    "3) For each number remaining in both clue and answer which is not in the correct position we return \"Wrong Position\"\n",
    "4) Everything else is completely wrong\n",
    "\n",
    "The tricky bit in this is writing the logic which works out if our guess is right or not.\n",
    "When writing this sort of code it is best to write tests for your code.  We're going to use an approach called \"TDD\" or Test Driven Development\n",
    "We first write a test, then we fix it, then we write another test, then we fix that one as well.\n",
    "\n",
    "... TODO"
   ],
   "metadata": {
    "collapsed": false,
    "pycharm": {
     "name": "#%% md\n"
    }
   }
  },
  {
   "cell_type": "code",
   "execution_count": null,
   "outputs": [],
   "source": [],
   "metadata": {
    "collapsed": false,
    "pycharm": {
     "name": "#%%\n"
    }
   }
  }
 ],
 "metadata": {
  "kernelspec": {
   "display_name": "Python 3",
   "language": "python",
   "name": "python3"
  },
  "language_info": {
   "codemirror_mode": {
    "name": "ipython",
    "version": 2
   },
   "file_extension": ".py",
   "mimetype": "text/x-python",
   "name": "python",
   "nbconvert_exporter": "python",
   "pygments_lexer": "ipython2",
   "version": "2.7.6"
  }
 },
 "nbformat": 4,
 "nbformat_minor": 0
}