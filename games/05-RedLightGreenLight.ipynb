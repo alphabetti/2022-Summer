{
 "cells": [
  {
   "cell_type": "markdown",
   "source": [
    "# Red Light Green Light\n",
    "\n",
    "Red Light Green Light is a game where you try to sneak forward (by pressing a button) while the computer is not watching you.\n",
    "\n",
    "If the computer spots you moving, you'll get caught!\n",
    "\n",
    "We'll need to use smart keyboard handling to simulate this in a notebook\n",
    "\n",
    "https://minrk-ipywidgets.readthedocs.io/en/latest/examples/Widget%20Events.html\n"
   ],
   "metadata": {
    "collapsed": false,
    "pycharm": {
     "name": "#%% md\n"
    }
   }
  }
 ],
 "metadata": {
  "kernelspec": {
   "display_name": "Python 3",
   "language": "python",
   "name": "python3"
  },
  "language_info": {
   "codemirror_mode": {
    "name": "ipython",
    "version": 2
   },
   "file_extension": ".py",
   "mimetype": "text/x-python",
   "name": "python",
   "nbconvert_exporter": "python",
   "pygments_lexer": "ipython2",
   "version": "2.7.6"
  }
 },
 "nbformat": 4,
 "nbformat_minor": 0
}