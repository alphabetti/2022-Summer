{
 "cells": [
  {
   "cell_type": "markdown",
   "source": [
    "# Hangman\n",
    "\n",
    "Write some code which allows you to guess a word, hangman style\n",
    "\n",
    "Any idea how to generate a random word?  Me neither so let's do a google search\n",
    "\n",
    "`python random word jupyter notebook`\n",
    "\n",
    "This is one of the early matches that comes up\n",
    "\n",
    "https://pypi.org/project/Random-Word/\n",
    "\n",
    "It says we need to install a package to do this, so switch to Terminal from the bottom bar in PyCharm, and enter what it says\n",
    "`pip install random-word`\n",
    "In fact we also have to install a yaml package\n",
    "`pip install pyyaml`\n",
    "\n",
    "The terminal will display a load of guff and install it, we can then copy/paste the code example below to get to the random word"
   ],
   "metadata": {
    "collapsed": false,
    "pycharm": {
     "name": "#%% md\n"
    }
   }
  },
  {
   "cell_type": "code",
   "execution_count": 8,
   "outputs": [
    {
     "name": "stdout",
     "output_type": "stream",
     "text": [
      "defraud\n"
     ]
    }
   ],
   "source": [
    "from random_word import RandomWords\n",
    "\n",
    "def get_random_word():\n",
    "    r = RandomWords()\n",
    "    return r.get_random_word()\n",
    "\n",
    "print(get_random_word())"
   ],
   "metadata": {
    "collapsed": false,
    "pycharm": {
     "name": "#%%\n"
    }
   }
  },
  {
   "cell_type": "markdown",
   "source": [
    "Now we just need to write the hangman code"
   ],
   "metadata": {
    "collapsed": false,
    "pycharm": {
     "name": "#%% md\n"
    }
   }
  },
  {
   "cell_type": "code",
   "execution_count": null,
   "outputs": [],
   "source": [
    "word_to_guess = get_random_word()\n",
    "guessed_letters = []\n",
    "lives_remaining = 10\n",
    "\n",
    "def guess_letter():\n",
    "    print(\"Not Implemented yet\")\n",
    "\n",
    "def display_hangman():\n",
    "    print(\"Not Implemented yet - need to show word with correct letters, and also all guesses so far\")\n",
    "\n",
    "def play_game():\n",
    "\n",
    "    display_hangman()\n",
    "#    while lives_remaining > 0:\n",
    "\n"
   ],
   "metadata": {
    "collapsed": false,
    "pycharm": {
     "name": "#%%\n"
    }
   }
  }
 ],
 "metadata": {
  "kernelspec": {
   "display_name": "Python 3",
   "language": "python",
   "name": "python3"
  },
  "language_info": {
   "codemirror_mode": {
    "name": "ipython",
    "version": 2
   },
   "file_extension": ".py",
   "mimetype": "text/x-python",
   "name": "python",
   "nbconvert_exporter": "python",
   "pygments_lexer": "ipython2",
   "version": "2.7.6"
  }
 },
 "nbformat": 4,
 "nbformat_minor": 0
}