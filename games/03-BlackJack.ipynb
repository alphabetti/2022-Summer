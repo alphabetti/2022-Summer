{
 "cells": [
  {
   "cell_type": "markdown",
   "source": [
    "# Blackjack\n",
    "\n",
    "In this exercise we're going to teach the computer to play BlackJack, and see if we can get it to win against a standard 'House' you might find in a casino'.  Blackjack is one of the games that you can play at a Casino with the lowest \"House Edge\" - of 0.5% in the house's favour.  But don't be fooled, as with all Casino games if you keep playing you'll upltimately lose money.\n",
    "\n",
    "## Introduction to Blackjack\n",
    "\n",
    "1. A stake of $1 is bet to play the hand\n",
    "2. The Dealer / House plays one card face up for the player, and one card face down for itself\n",
    "3. The Dealer deals one face up card to the player's pile, and one more to themselves (the player has two face up, dealer has one face up, one face down)\n",
    "4. Player chooses to add a card \"Hit\" or \"Stick\".  They repeat this until they Stick or they Bust\n",
    "5. The player's card total is the sum of their cards - honour cards (Jack, Queen, King) all count as 10.  Aces can either be treated as 11, or as a 1.  If the total count exceeds 21 then they are Busy and immediately lose the hand and their stake.\n",
    "6. The dealer plays their hand.  They reveal their second card and follows a standard rule of - if they have 17 or more in any way they stick, otherwise they Hit.  As with players, if they exceed 21, they Bust and immediately lose the hand\n",
    "7. \"Black Jack\" is called when a player draws a 10 value card and an Ace - this basically means their hand is worth 21 and can't be improved on\n",
    "8. If both player and Dealer are still in, whoever has the highest number wins the hand.  If this is the player they receive their stake back and the same amount again.\n",
    "\n",
    "## Now let's write the code\n",
    "We want the computer to count as the dealer.  We'll just play a single hand for the moment.\n",
    "You can simulate what card is received by using a random number between 1 and 14, let's not worry about the fact the cards are drawn from a deck just yet.\n"
   ],
   "metadata": {
    "collapsed": false,
    "pycharm": {
     "name": "#%% md\n"
    }
   }
  },
  {
   "cell_type": "code",
   "execution_count": 6,
   "outputs": [],
   "source": [
    "# The top of this defines a load of classes which represent the components of cards in the playing deck\n",
    "# Run this so you can use them but then skip to the next cell\n",
    "from enum import Enum\n",
    "import random\n",
    "\n",
    "class CardSuit(Enum):\n",
    "    Spade = 1\n",
    "    Heart = 2\n",
    "    Diamond = 3\n",
    "    Club = 4\n",
    "    def __str__(self):\n",
    "        match self:\n",
    "            case CardSuit.Club:\n",
    "                return \"♣\"\n",
    "            case CardSuit.Diamond:\n",
    "                return \"♦\"\n",
    "            case CardSuit.Heart:\n",
    "                return \"♥\"\n",
    "            case CardSuit.Spade:\n",
    "                return \"♠\"\n",
    "        return self.name\n",
    "\n",
    "class CardNumber(Enum):\n",
    "    A = 1\n",
    "    N2 = 2\n",
    "    N3 = 3\n",
    "    N4 = 4\n",
    "    N5 = 5\n",
    "    N6 = 6\n",
    "    N7 = 7\n",
    "    N8 = 8\n",
    "    N9 = 9\n",
    "    N10 = 10\n",
    "    J = 11\n",
    "    Q = 12\n",
    "    K = 13\n",
    "\n",
    "    def __str__(self):\n",
    "        if 1 < self.value <= 10:\n",
    "            return str(self.value)\n",
    "        return self.name\n",
    "\n",
    "class Card(object):\n",
    "    def __init__(self, suit, number):\n",
    "        self.suit = suit\n",
    "        self.number = number\n",
    "\n",
    "    def __str__(self):\n",
    "        return '{}{}'.format(self.number, self.suit)\n",
    "\n",
    "    def __repr__(self):\n",
    "        return '{}{}'.format(self.number, self.suit)"
   ],
   "metadata": {
    "collapsed": false,
    "pycharm": {
     "name": "#%%\n"
    }
   }
  },
  {
   "cell_type": "code",
   "execution_count": 8,
   "outputs": [
    {
     "name": "stdout",
     "output_type": "stream",
     "text": [
      "Dealer sticks because no better logic has been written yet\n",
      "best_score hasn't been written yet!\n",
      "best_score hasn't been written yet!\n",
      "Both player and dealer have a score of -1 - it's a draw!\n"
     ]
    }
   ],
   "source": [
    "# Here are the functions used by the code which actually plays the game\n",
    "\n",
    "from itertools import product\n",
    "from typing import List\n",
    "\n",
    "def shuffle_decks():\n",
    "    deck = [Card(suit, rank) for suit, rank in product(CardSuit, CardNumber)]\n",
    "    random.shuffle(deck);\n",
    "    return deck\n",
    "\n",
    "def draw_a_card():\n",
    "    # at the moment randomly generate one\n",
    "    return deck.pop(0)\n",
    "\n",
    "def is_bust(hand: List[Card]):\n",
    "    # TODO: simplify this by just calling into best score\n",
    "    hand_total = 0\n",
    "    for card in hand:\n",
    "        if card.number.value < 10:\n",
    "            hand_total += card.number.value\n",
    "        else:\n",
    "            hand_total += 10\n",
    "    return hand_total > 21\n",
    "\n",
    "def best_score(hand:List[Card]):\n",
    "    # TODO: write code which works this out\n",
    "    print(\"best_score hasn't been written yet!\")\n",
    "    return -1\n",
    "\n",
    "deck = shuffle_decks()\n",
    "\n",
    "players_hand = [draw_a_card(), draw_a_card()]\n",
    "dealers_hand = [draw_a_card(), draw_a_card()]\n",
    "\n",
    "has_player_stuck = False\n",
    "has_dealer_stuck = False\n",
    "\n",
    "while not (is_bust(players_hand) or has_player_stuck) and not (is_bust(dealers_hand) or has_dealer_stuck):\n",
    "\n",
    "    if not (is_bust(players_hand) or has_player_stuck):\n",
    "\n",
    "        player_choice = \"\"\n",
    "        while not (player_choice == \"s\" or player_choice == \"h\"):\n",
    "            player_choice = input(f\"Your hand is {str(players_hand)}.  What do you do? s=Stick, h=Hit\")\n",
    "\n",
    "        if player_choice == \"s\":\n",
    "            has_player_stuck = True\n",
    "\n",
    "        if player_choice == \"h\":\n",
    "            players_hand.append(draw_a_card())\n",
    "\n",
    "        # TODO: add dealer logic\n",
    "        # Dealer will twist if the total of the hand is <17\n",
    "        # using any permutation of A being 1 or 11\n",
    "        has_dealer_stuck = True\n",
    "        print(\"Dealer sticks because no better logic has been written yet\")\n",
    "\n",
    "player_score = best_score(players_hand)\n",
    "dealer_score = best_score(dealers_hand)\n",
    "is_player_bust = player_score > 21\n",
    "is_dealer_bust = dealer_score > 21\n",
    "\n",
    "if is_player_bust and is_dealer_bust:\n",
    "    print(\"Everyone busted, hand over as a draw!\")\n",
    "elif is_player_bust:\n",
    "    print(\"The dealer wins as player is bust\")\n",
    "elif is_dealer_bust:\n",
    "    print(\"The player wins as dealer is bust\")\n",
    "elif dealer_score > player_score:\n",
    "    print(f\"The dealer wins with a better score {dealer_score} vs {player_score}\")\n",
    "elif player_score > dealer_score:\n",
    "    print(f\"The player wins with a better score {player_score} vs {dealer_score}\")\n",
    "else:\n",
    "    print(f\"Both player and dealer have a score of {player_score} - it's a draw!\")\n"
   ],
   "metadata": {
    "collapsed": false,
    "pycharm": {
     "name": "#%%\n"
    }
   }
  },
  {
   "cell_type": "markdown",
   "source": [
    "\n",
    "1. Extend the code to use multiple decks (8)\n",
    "2. Have the house play against you\n",
    "3. Run over a large number of repetitions and summarise if it made money or not\n",
    "4. Change house strategy and see what difference it makes"
   ],
   "metadata": {
    "collapsed": false,
    "pycharm": {
     "name": "#%% md\n"
    }
   }
  },
  {
   "cell_type": "code",
   "execution_count": null,
   "outputs": [],
   "source": [],
   "metadata": {
    "collapsed": false,
    "pycharm": {
     "name": "#%%\n"
    }
   }
  }
 ],
 "metadata": {
  "kernelspec": {
   "display_name": "Python 3",
   "language": "python",
   "name": "python3"
  },
  "language_info": {
   "codemirror_mode": {
    "name": "ipython",
    "version": 2
   },
   "file_extension": ".py",
   "mimetype": "text/x-python",
   "name": "python",
   "nbconvert_exporter": "python",
   "pygments_lexer": "ipython2",
   "version": "2.7.6"
  }
 },
 "nbformat": 4,
 "nbformat_minor": 0
}