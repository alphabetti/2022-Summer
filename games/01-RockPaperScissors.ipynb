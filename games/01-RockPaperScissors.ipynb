{
 "cells": [
  {
   "cell_type": "markdown",
   "source": [
    "# Rock / Paper / Scissors\n",
    "Everyone knows Rock / Paper / Scissors right?  Well in this challenge we're going to start with some code which plays it, and extend it to play Rock/Paper/Scissors/Lizard/Spock"
   ],
   "metadata": {
    "collapsed": false,
    "pycharm": {
     "name": "#%% md\n"
    }
   }
  },
  {
   "cell_type": "code",
   "execution_count": 19,
   "outputs": [
    {
     "name": "stdout",
     "output_type": "stream",
     "text": [
      "\n",
      "Hello hello, I am the computer and will be your opponent today.\n"
     ]
    }
   ],
   "source": [
    "yourName = input(\"Hello, what is your name\")\n",
    "print(f\"\\nHello {yourName}, I am the computer and will be your opponent today.\")"
   ],
   "metadata": {
    "collapsed": false,
    "pycharm": {
     "name": "#%%\n"
    }
   }
  },
  {
   "cell_type": "code",
   "execution_count": 18,
   "outputs": [
    {
     "name": "stdout",
     "output_type": "stream",
     "text": [
      "You chose rock, I chose scissors\n",
      "GRR I Lost!  Did you cheat?\n"
     ]
    }
   ],
   "source": [
    "import random\n",
    "options = [\"rock\", \"paper\", \"scissors\"]\n",
    "computer_choice = random.choice(options)\n",
    "\n",
    "options_description = \", \".join(options);\n",
    "your_choice = input(f\"What is your choice?  Options are ({options_description} )\")\n",
    "\n",
    "print(f\"You chose {your_choice}, I chose {computer_choice}\")\n",
    "\n",
    "if your_choice == computer_choice:\n",
    "    print(f\"TIE: Great minds think alike right - we both picked {your_choice}\")\n",
    "elif your_choice not in options:\n",
    "    print(f\"I WIN: {your_choice} isn't a valid choice, you are disqualified, and I WIN!\")\n",
    "elif ((your_choice == \"scissors\" and computer_choice == \"rock\") or\n",
    "     (your_choice == \"rock\" and computer_choice == \"paper\") or\n",
    "     (your_choice == \"paper\" and computer_choice == \"scissors\")):\n",
    "\n",
    "    print(f\"I WIN: \")\n",
    "else:\n",
    "    print(\"GRR I Lost!  Did you cheat?\")"
   ],
   "metadata": {
    "collapsed": false,
    "pycharm": {
     "name": "#%%\n"
    }
   }
  },
  {
   "cell_type": "markdown",
   "source": [
    "## Variations\n",
    "Try making the experience a bit more variable by adding random win / loss messages from a list of three\n",
    "\n",
    "After playing the game above a few times you'll probably see the win results are fairly even.  It's nice to win though, and given the computer knows what it's picking in advance, try changing the code above to cheat and always select the choice which would beat the human.  This would work well with changing the messages when the computer runs to be particularly evil"
   ],
   "metadata": {
    "collapsed": false,
    "pycharm": {
     "name": "#%% md\n"
    }
   }
  },
  {
   "cell_type": "code",
   "execution_count": null,
   "outputs": [],
   "source": [
    "// Copy the code from above and add some more win / loss messages - or the computer cheating"
   ],
   "metadata": {
    "collapsed": false,
    "pycharm": {
     "name": "#%%\n"
    }
   }
  },
  {
   "cell_type": "markdown",
   "source": [
    "## Lizard and Spock\n",
    "1. Now you've made the game Rock / Paper / Scissors, why not extend it to include Lizard / Spock as well?\n",
    "Copy the code from above into a new cell in the notebook below and make changes to it.\n",
    "\n",
    "The rules can be found at https://www.instructables.com/How-to-Play-Rock-Paper-Scissors-Lizard-Spock/"
   ],
   "metadata": {
    "collapsed": false,
    "pycharm": {
     "name": "#%% md\n"
    }
   }
  },
  {
   "cell_type": "code",
   "execution_count": null,
   "outputs": [],
   "source": [
    "// Copy the code from above and extend to support Lizard and Spock"
   ],
   "metadata": {
    "collapsed": false,
    "pycharm": {
     "name": "#%%\n"
    }
   }
  },
  {
   "cell_type": "markdown",
   "source": [
    "## Computer Profiles\n",
    "Try adding computer profiles which do different things.  Introduce computer names 'Aida','Sheldon' and 'Troller'\n",
    "Aida will just randomly choose one of the options as above\n",
    "Sheldon always chooses Spock\n",
    "Troller looks at the last choice made by the human (if available) and picks an option that beats it\n",
    "\n",
    "After the human has chosen what they want, randomly select which of the computer players will play against them, and write it to the screen as part of the results."
   ],
   "metadata": {
    "collapsed": false,
    "pycharm": {
     "name": "#%% md\n"
    }
   }
  },
  {
   "cell_type": "code",
   "execution_count": null,
   "outputs": [],
   "source": [
    "// Copy the code from above and extend to support computer profiles"
   ],
   "metadata": {
    "collapsed": false,
    "pycharm": {
     "name": "#%%\n"
    }
   }
  },
  {
   "cell_type": "markdown",
   "source": [
    "## If you're feeling creative - VERY HARD\n",
    "Do you reckon you can do better than just randomly picking an outcome?  You have the information of what has been chosen so far - see how high a percentage you can get at winning the basic Rock/Paper/Scissors with custom logic vs a human.  Can you get it to over 50%?"
   ],
   "metadata": {
    "collapsed": false,
    "pycharm": {
     "name": "#%% md\n"
    }
   }
  }
 ],
 "metadata": {
  "kernelspec": {
   "display_name": "Python 3",
   "language": "python",
   "name": "python3"
  },
  "language_info": {
   "codemirror_mode": {
    "name": "ipython",
    "version": 2
   },
   "file_extension": ".py",
   "mimetype": "text/x-python",
   "name": "python",
   "nbconvert_exporter": "python",
   "pygments_lexer": "ipython2",
   "version": "2.7.6"
  }
 },
 "nbformat": 4,
 "nbformat_minor": 0
}