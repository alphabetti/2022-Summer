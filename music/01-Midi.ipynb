{
 "cells": [
  {
   "cell_type": "raw",
   "source": [
    "# Midi Files\n",
    "We're going to go pretty old school now.  Yes, you have mp3 files, wav files and so on which play music nowadays - and it's the best way to do music.\n",
    "\n",
    "However, in the \"good old days\", we had midi files.  These were constructed by playing sounds of specific pitches to the speaker\n",
    "You can find these at sites like https://bitmidi.com/\n",
    "\n",
    "Pygame (which we'll use in one of the other sections), allows you to download and play midi files\n",
    "\n",
    "TODO: need to incorporate the content at https://blog.ouseful.info/2016/09/13/making-music-and-embedding-sounds-in-jupyter-notebooks/\n"
   ],
   "metadata": {
    "collapsed": false,
    "pycharm": {
     "name": ""
    }
   }
  },
  {
   "cell_type": "code",
   "execution_count": null,
   "outputs": [],
   "source": [
    "# pip install pygame\n",
    "import pygame.mixer\n",
    "\n",
    "pygame.init()\n",
    "pygame.mixer.init()\n",
    "pygame.mixer.music.load(\"example.mid\")\n",
    "pygame.mixer.music.play()\n",
    "while pygame.mixer.music.get_busy():\n",
    "    pygame.time.wait(100000)"
   ],
   "metadata": {
    "collapsed": false,
    "pycharm": {
     "name": "#%%\n"
    }
   }
  },
  {
   "cell_type": "code",
   "execution_count": null,
   "outputs": [],
   "source": [],
   "metadata": {
    "collapsed": false,
    "pycharm": {
     "name": "#%%\n"
    }
   }
  }
 ],
 "metadata": {
  "kernelspec": {
   "display_name": "Python 3",
   "language": "python",
   "name": "python3"
  },
  "language_info": {
   "codemirror_mode": {
    "name": "ipython",
    "version": 2
   },
   "file_extension": ".py",
   "mimetype": "text/x-python",
   "name": "python",
   "nbconvert_exporter": "python",
   "pygments_lexer": "ipython2",
   "version": "2.7.6"
  }
 },
 "nbformat": 4,
 "nbformat_minor": 0
}