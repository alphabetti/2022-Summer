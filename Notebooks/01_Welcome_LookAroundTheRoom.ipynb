{
  "nbformat": 4,
  "nbformat_minor": 0,
  "metadata": {
    "colab": {
      "name": "01-Welcome-LookAroundTheRoom.ipynb",
      "provenance": [],
      "authorship_tag": "ABX9TyMirh6TKBa8fzd914VXZb0s",
      "include_colab_link": true
    },
    "kernelspec": {
      "name": "python3",
      "display_name": "Python 3"
    },
    "language_info": {
      "name": "python"
    }
  },
  "cells": [
    {
      "cell_type": "markdown",
      "metadata": {
        "id": "view-in-github",
        "colab_type": "text"
      },
      "source": [
        "<a href=\"https://colab.research.google.com/github/alphabetti/2022-Summer/blob/main/Notebooks/01_Welcome_LookAroundTheRoom.ipynb\" target=\"_parent\"><img src=\"https://colab.research.google.com/assets/colab-badge.svg\" alt=\"Open In Colab\"/></a>"
      ]
    },
    {
      "cell_type": "markdown",
      "source": [
        "## New section\n",
        "\n",
        "The room isn't very interesting, there's a door, and a desk.  A window on one wall seems to have been boarded up.\n",
        "\n",
        "There's an empty hanging space for a picture here, you could insert one if you like\n",
        "\n",
        "Scrawled in Graffiti behind the desk you can see the words\n",
        "\n",
        "TODO"
      ],
      "metadata": {
        "id": "HiNZEnT8tRxV"
      }
    }
  ]
}